{
  "nbformat": 4,
  "nbformat_minor": 0,
  "metadata": {
    "colab": {
      "provenance": [],
      "authorship_tag": "ABX9TyOtJU60gpw3WzXKuDhfso9D",
      "include_colab_link": true
    },
    "kernelspec": {
      "name": "python3",
      "display_name": "Python 3"
    },
    "language_info": {
      "name": "python"
    }
  },
  "cells": [
    {
      "cell_type": "markdown",
      "metadata": {
        "id": "view-in-github",
        "colab_type": "text"
      },
      "source": [
        "<a href=\"https://colab.research.google.com/github/amir-asari/SEBB4083-AI--202220232/blob/main/SEBB4083_Mini_Project_2023.ipynb\" target=\"_parent\"><img src=\"https://colab.research.google.com/assets/colab-badge.svg\" alt=\"Open In Colab\"/></a>"
      ]
    },
    {
      "cell_type": "markdown",
      "source": [
        "#Mini Project 2024 (Groceries Classification)\n",
        "### Total marks: 30\n",
        "\n",
        "### Group No.:\n",
        "\n",
        "###Group Members:\n",
        "1)....\n",
        "\n",
        "2)....\n",
        "\n",
        "3)....\n",
        "\n",
        "4)....\n",
        "\n",
        "5)....\n",
        "\n",
        "6)....\n"
      ],
      "metadata": {
        "id": "jSoW_qF-DEkF"
      }
    },
    {
      "cell_type": "markdown",
      "source": [
        "## Chapter 1: Introduction\n",
        "xxxxxxx\n",
        "xxxxxxx"
      ],
      "metadata": {
        "id": "Zy2cvcOsEMcd"
      }
    },
    {
      "cell_type": "markdown",
      "source": [
        "###1.1 Background of study and related works\n",
        "\n",
        "xxxxxxx"
      ],
      "metadata": {
        "id": "UDuO5V11-Kzy"
      }
    },
    {
      "cell_type": "markdown",
      "source": [
        "###1.2 Objectives\n",
        "\n",
        "xxxxxxx"
      ],
      "metadata": {
        "id": "nMKgmV1V_5k5"
      }
    },
    {
      "cell_type": "markdown",
      "source": [
        "## Chapter 2: Methodology and Results"
      ],
      "metadata": {
        "id": "Fi6tFV5xAIIV"
      }
    },
    {
      "cell_type": "markdown",
      "source": [
        "Explain step by step together with code and results............"
      ],
      "metadata": {
        "id": "c0q2fb03ARwC"
      }
    },
    {
      "cell_type": "code",
      "execution_count": null,
      "metadata": {
        "id": "Q2hpOX-MDD2v"
      },
      "outputs": [],
      "source": [
        "## (write your codes here)"
      ]
    },
    {
      "cell_type": "markdown",
      "source": [
        "## Chapter 3: Discussion\n",
        "\n",
        "You may discuss the comparison of result from each cases. What happen when you are varying the desired parameter"
      ],
      "metadata": {
        "id": "VW9JF4suEfW3"
      }
    },
    {
      "cell_type": "markdown",
      "source": [
        "## Chapter 4: Conclusion\n",
        "\n",
        "xxxxxxx"
      ],
      "metadata": {
        "id": "TlWBRPYUBQFE"
      }
    },
    {
      "cell_type": "markdown",
      "source": [
        "## References\n",
        "1)xxxxxx"
      ],
      "metadata": {
        "id": "O_hrzCuxBVXQ"
      }
    }
  ]
}