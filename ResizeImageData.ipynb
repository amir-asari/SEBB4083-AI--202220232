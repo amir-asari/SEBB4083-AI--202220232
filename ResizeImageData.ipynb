{
  "nbformat": 4,
  "nbformat_minor": 0,
  "metadata": {
    "colab": {
      "provenance": [],
      "authorship_tag": "ABX9TyM74Q92B7MKSf60yAN2OEGw",
      "include_colab_link": true
    },
    "kernelspec": {
      "name": "python3",
      "display_name": "Python 3"
    },
    "language_info": {
      "name": "python"
    }
  },
  "cells": [
    {
      "cell_type": "markdown",
      "metadata": {
        "id": "view-in-github",
        "colab_type": "text"
      },
      "source": [
        "<a href=\"https://colab.research.google.com/github/amir-asari/SEBB4083-AI--202220232/blob/main/ResizeImageData.ipynb\" target=\"_parent\"><img src=\"https://colab.research.google.com/assets/colab-badge.svg\" alt=\"Open In Colab\"/></a>"
      ]
    },
    {
      "cell_type": "code",
      "source": [
        "from google.colab import drive\n",
        "drive.mount('/content/drive')"
      ],
      "metadata": {
        "colab": {
          "base_uri": "https://localhost:8080/"
        },
        "id": "rlM45iqyOq8m",
        "outputId": "5115b47b-1d84-4704-b8c1-2aa64b5ca243"
      },
      "execution_count": null,
      "outputs": [
        {
          "output_type": "stream",
          "name": "stdout",
          "text": [
            "Mounted at /content/drive\n"
          ]
        }
      ]
    },
    {
      "cell_type": "code",
      "execution_count": 3,
      "metadata": {
        "id": "zxw9RF-DlLLq",
        "colab": {
          "base_uri": "https://localhost:8080/"
        },
        "outputId": "1be8d71c-8cd8-45f1-9321-cae6c3e2c808"
      },
      "outputs": [
        {
          "output_type": "stream",
          "name": "stdout",
          "text": [
            "Requirement already satisfied: pillow in /usr/local/lib/python3.10/dist-packages (9.4.0)\n",
            "Collecting pyheif\n",
            "  Downloading pyheif-0.7.1-cp310-cp310-manylinux_2_17_x86_64.manylinux2014_x86_64.whl (9.8 MB)\n",
            "\u001b[2K     \u001b[90m━━━━━━━━━━━━━━━━━━━━━━━━━━━━━━━━━━━━━━━━\u001b[0m \u001b[32m9.8/9.8 MB\u001b[0m \u001b[31m55.6 MB/s\u001b[0m eta \u001b[36m0:00:00\u001b[0m\n",
            "\u001b[?25hRequirement already satisfied: cffi>=1.0.0 in /usr/local/lib/python3.10/dist-packages (from pyheif) (1.16.0)\n",
            "Requirement already satisfied: pycparser in /usr/local/lib/python3.10/dist-packages (from cffi>=1.0.0->pyheif) (2.22)\n",
            "Installing collected packages: pyheif\n",
            "Successfully installed pyheif-0.7.1\n"
          ]
        }
      ],
      "source": [
        "!pip install pillow\n",
        "!pip install pyheif"
      ]
    },
    {
      "cell_type": "code",
      "source": [
        "import os\n",
        "from PIL import Image\n",
        "import pyheif\n",
        "\n",
        "def convert_heic_to_image(heic_path):\n",
        "    heif_file = pyheif.read(heic_path)\n",
        "    image = Image.frombytes(\n",
        "        heif_file.mode,\n",
        "        heif_file.size,\n",
        "        heif_file.data,\n",
        "        \"raw\",\n",
        "        heif_file.mode,\n",
        "        heif_file.stride,\n",
        "    )\n",
        "    return image\n",
        "\n",
        "def resize_images(source_dir, destination_dir, size=(224, 224)):\n",
        "    # Create the destination directory if it doesn't exist\n",
        "    if not os.path.exists(destination_dir):\n",
        "        os.makedirs(destination_dir)\n",
        "\n",
        "    # Iterate over each file in the source directory\n",
        "    for filename in os.listdir(source_dir):\n",
        "        # Construct full file path\n",
        "        file_path = os.path.join(source_dir, filename)\n",
        "\n",
        "        # Check if it is a file\n",
        "        if os.path.isfile(file_path):\n",
        "            try:\n",
        "                # Open an image file\n",
        "                if filename.lower().endswith('.heic'):\n",
        "                    img = convert_heic_to_image(file_path)\n",
        "                else:\n",
        "                    img = Image.open(file_path)\n",
        "\n",
        "                # Resize image\n",
        "                img_resized = img.resize(size)\n",
        "\n",
        "                # Create a new filename with .jpg extension\n",
        "                base_filename = os.path.splitext(filename)[0]\n",
        "                destination_path = os.path.join(destination_dir, f\"{base_filename}.jpg\")\n",
        "\n",
        "                # Save the resized image to the destination directory in JPEG format\n",
        "                img_resized.save(destination_path, \"JPEG\")\n",
        "\n",
        "                print(f'Resized and saved {filename} as {destination_path}')\n",
        "            except Exception as e:\n",
        "                print(f'Failed to process {filename}: {e}')\n",
        "\n",
        "# Example usage\n",
        "source_directory = '/content/drive/Othercomputers/My Laptop/Google Drive/Anis'\n",
        "destination_directory = '/content/drive/Othercomputers/My Laptop/Google Drive/Anis_resize'\n",
        "resize_images(source_directory, destination_directory)"
      ],
      "metadata": {
        "id": "QRWk16pKlcGo",
        "colab": {
          "base_uri": "https://localhost:8080/"
        },
        "outputId": "01f2c183-fe93-44b2-db32-4f81d46e187b"
      },
      "execution_count": 4,
      "outputs": [
        {
          "output_type": "stream",
          "name": "stdout",
          "text": [
            "Resized and saved IMG_6567.HEIC as /content/drive/Othercomputers/My Laptop/Google Drive/Anis_resize/IMG_6567.jpg\n",
            "Resized and saved IMG_6557.HEIC as /content/drive/Othercomputers/My Laptop/Google Drive/Anis_resize/IMG_6557.jpg\n",
            "Resized and saved IMG_6560.HEIC as /content/drive/Othercomputers/My Laptop/Google Drive/Anis_resize/IMG_6560.jpg\n",
            "Resized and saved IMG_6834(1).HEIC as /content/drive/Othercomputers/My Laptop/Google Drive/Anis_resize/IMG_6834(1).jpg\n",
            "Resized and saved IMG_6840.HEIC as /content/drive/Othercomputers/My Laptop/Google Drive/Anis_resize/IMG_6840.jpg\n",
            "Resized and saved IMG_6581.HEIC as /content/drive/Othercomputers/My Laptop/Google Drive/Anis_resize/IMG_6581.jpg\n",
            "Resized and saved IMG_6833(1).HEIC as /content/drive/Othercomputers/My Laptop/Google Drive/Anis_resize/IMG_6833(1).jpg\n",
            "Resized and saved IMG_6834.HEIC as /content/drive/Othercomputers/My Laptop/Google Drive/Anis_resize/IMG_6834.jpg\n",
            "Resized and saved IMG_6844.HEIC as /content/drive/Othercomputers/My Laptop/Google Drive/Anis_resize/IMG_6844.jpg\n",
            "Resized and saved IMG_6578(1).HEIC as /content/drive/Othercomputers/My Laptop/Google Drive/Anis_resize/IMG_6578(1).jpg\n",
            "Resized and saved IMG_6578.HEIC as /content/drive/Othercomputers/My Laptop/Google Drive/Anis_resize/IMG_6578.jpg\n",
            "Resized and saved IMG_6843.HEIC as /content/drive/Othercomputers/My Laptop/Google Drive/Anis_resize/IMG_6843.jpg\n",
            "Resized and saved IMG_6559.HEIC as /content/drive/Othercomputers/My Laptop/Google Drive/Anis_resize/IMG_6559.jpg\n",
            "Resized and saved IMG_6583.HEIC as /content/drive/Othercomputers/My Laptop/Google Drive/Anis_resize/IMG_6583.jpg\n",
            "Resized and saved IMG_6843(1).HEIC as /content/drive/Othercomputers/My Laptop/Google Drive/Anis_resize/IMG_6843(1).jpg\n",
            "Resized and saved IMG_6580.HEIC as /content/drive/Othercomputers/My Laptop/Google Drive/Anis_resize/IMG_6580.jpg\n",
            "Resized and saved IMG_6557(1).HEIC as /content/drive/Othercomputers/My Laptop/Google Drive/Anis_resize/IMG_6557(1).jpg\n",
            "Resized and saved IMG_6842.HEIC as /content/drive/Othercomputers/My Laptop/Google Drive/Anis_resize/IMG_6842.jpg\n",
            "Resized and saved IMG_6529(1).HEIC as /content/drive/Othercomputers/My Laptop/Google Drive/Anis_resize/IMG_6529(1).jpg\n",
            "Resized and saved IMG_6586.HEIC as /content/drive/Othercomputers/My Laptop/Google Drive/Anis_resize/IMG_6586.jpg\n",
            "Resized and saved IMG_6827(1).HEIC as /content/drive/Othercomputers/My Laptop/Google Drive/Anis_resize/IMG_6827(1).jpg\n",
            "Resized and saved IMG_6835.HEIC as /content/drive/Othercomputers/My Laptop/Google Drive/Anis_resize/IMG_6835.jpg\n",
            "Resized and saved IMG_6838.HEIC as /content/drive/Othercomputers/My Laptop/Google Drive/Anis_resize/IMG_6838.jpg\n",
            "Resized and saved IMG_6530.HEIC as /content/drive/Othercomputers/My Laptop/Google Drive/Anis_resize/IMG_6530.jpg\n",
            "Resized and saved IMG_6829.HEIC as /content/drive/Othercomputers/My Laptop/Google Drive/Anis_resize/IMG_6829.jpg\n",
            "Resized and saved IMG_6823.HEIC as /content/drive/Othercomputers/My Laptop/Google Drive/Anis_resize/IMG_6823.jpg\n",
            "Resized and saved IMG_6839(1).HEIC as /content/drive/Othercomputers/My Laptop/Google Drive/Anis_resize/IMG_6839(1).jpg\n",
            "Resized and saved IMG_6569.HEIC as /content/drive/Othercomputers/My Laptop/Google Drive/Anis_resize/IMG_6569.jpg\n",
            "Resized and saved IMG_6529.HEIC as /content/drive/Othercomputers/My Laptop/Google Drive/Anis_resize/IMG_6529.jpg\n",
            "Resized and saved IMG_6579.HEIC as /content/drive/Othercomputers/My Laptop/Google Drive/Anis_resize/IMG_6579.jpg\n",
            "Resized and saved IMG_6558.HEIC as /content/drive/Othercomputers/My Laptop/Google Drive/Anis_resize/IMG_6558.jpg\n",
            "Resized and saved IMG_6833.HEIC as /content/drive/Othercomputers/My Laptop/Google Drive/Anis_resize/IMG_6833.jpg\n",
            "Resized and saved IMG_6827.HEIC as /content/drive/Othercomputers/My Laptop/Google Drive/Anis_resize/IMG_6827.jpg\n",
            "Resized and saved IMG_6821(1).HEIC as /content/drive/Othercomputers/My Laptop/Google Drive/Anis_resize/IMG_6821(1).jpg\n",
            "Resized and saved IMG_6839(2).HEIC as /content/drive/Othercomputers/My Laptop/Google Drive/Anis_resize/IMG_6839(2).jpg\n",
            "Resized and saved IMG_6584.HEIC as /content/drive/Othercomputers/My Laptop/Google Drive/Anis_resize/IMG_6584.jpg\n",
            "Resized and saved IMG_6585.HEIC as /content/drive/Othercomputers/My Laptop/Google Drive/Anis_resize/IMG_6585.jpg\n",
            "Resized and saved IMG_6569(1).HEIC as /content/drive/Othercomputers/My Laptop/Google Drive/Anis_resize/IMG_6569(1).jpg\n",
            "Resized and saved IMG_6584(1).HEIC as /content/drive/Othercomputers/My Laptop/Google Drive/Anis_resize/IMG_6584(1).jpg\n",
            "Resized and saved IMG_6839.HEIC as /content/drive/Othercomputers/My Laptop/Google Drive/Anis_resize/IMG_6839.jpg\n",
            "Resized and saved IMG_6528.HEIC as /content/drive/Othercomputers/My Laptop/Google Drive/Anis_resize/IMG_6528.jpg\n",
            "Resized and saved IMG_6822(1).HEIC as /content/drive/Othercomputers/My Laptop/Google Drive/Anis_resize/IMG_6822(1).jpg\n",
            "Resized and saved IMG_6570.HEIC as /content/drive/Othercomputers/My Laptop/Google Drive/Anis_resize/IMG_6570.jpg\n",
            "Resized and saved IMG_6568.HEIC as /content/drive/Othercomputers/My Laptop/Google Drive/Anis_resize/IMG_6568.jpg\n",
            "Resized and saved IMG_6822.HEIC as /content/drive/Othercomputers/My Laptop/Google Drive/Anis_resize/IMG_6822.jpg\n",
            "Resized and saved IMG_6821.HEIC as /content/drive/Othercomputers/My Laptop/Google Drive/Anis_resize/IMG_6821.jpg\n",
            "Resized and saved IMG_6828.HEIC as /content/drive/Othercomputers/My Laptop/Google Drive/Anis_resize/IMG_6828.jpg\n",
            "Resized and saved IMG_6526.HEIC as /content/drive/Othercomputers/My Laptop/Google Drive/Anis_resize/IMG_6526.jpg\n",
            "Resized and saved IMG_6844(1).HEIC as /content/drive/Othercomputers/My Laptop/Google Drive/Anis_resize/IMG_6844(1).jpg\n"
          ]
        }
      ]
    }
  ]
}