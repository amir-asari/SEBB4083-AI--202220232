{
  "nbformat": 4,
  "nbformat_minor": 0,
  "metadata": {
    "colab": {
      "provenance": [],
      "authorship_tag": "ABX9TyO8z2wqtfkvHCDK2I5aVB1o",
      "include_colab_link": true
    },
    "kernelspec": {
      "name": "python3",
      "display_name": "Python 3"
    },
    "language_info": {
      "name": "python"
    }
  },
  "cells": [
    {
      "cell_type": "markdown",
      "metadata": {
        "id": "view-in-github",
        "colab_type": "text"
      },
      "source": [
        "<a href=\"https://colab.research.google.com/github/amir-asari/SEBB4083-AI--202220232/blob/main/SEBB4083_ANN_From_Scratch.ipynb\" target=\"_parent\"><img src=\"https://colab.research.google.com/assets/colab-badge.svg\" alt=\"Open In Colab\"/></a>"
      ]
    },
    {
      "cell_type": "code",
      "execution_count": null,
      "metadata": {
        "id": "0w_wl7eb96TC"
      },
      "outputs": [],
      "source": [
        "import numpy as np\n"
      ]
    },
    {
      "cell_type": "code",
      "source": [
        "def sigmoid(x):\n",
        "    return 1 / (1 + np.exp(-x))"
      ],
      "metadata": {
        "id": "GO3W0Rw9-Pbz"
      },
      "execution_count": null,
      "outputs": []
    },
    {
      "cell_type": "code",
      "source": [
        "def backprop(W2, W3, B2, B3, X, Y):\n",
        "    alpha = 0.1   # learning rate\n",
        "    N = len(X)    # number of training samples\n",
        "\n",
        "    for i in range(N):\n",
        "        x = X[i, :].reshape(-1, 1)\n",
        "        y = Y[i, :].reshape(-1, 1)\n",
        "\n",
        "        net2 = np.dot(W2.T, x) + B2\n",
        "        o2 = sigmoid(net2)\n",
        "\n",
        "        net3 = np.dot(W3.T, o2) + B3\n",
        "        yh = sigmoid(net3)\n",
        "\n",
        "        e = y - yh\n",
        "        delta3 = e * yh * (1 - yh)\n",
        "\n",
        "        delta2 = np.dot(W3, delta3) * o2 * (1 - o2)\n",
        "\n",
        "        dW2 = alpha * np.dot(x, delta2.T)\n",
        "        dW3 = alpha * np.dot(o2, delta3.T)\n",
        "\n",
        "        dB2 = alpha * delta2\n",
        "        dB3 = alpha * delta3\n",
        "\n",
        "        W2 = W2 + dW2\n",
        "        W3 = W3 + dW3\n",
        "\n",
        "        B2 = B2 + dB2\n",
        "        B3 = B3 + dB3\n",
        "\n",
        "    return W2, W3, B2, B3"
      ],
      "metadata": {
        "id": "kLzcT9pp-Xcr"
      },
      "execution_count": null,
      "outputs": []
    },
    {
      "cell_type": "code",
      "source": [
        "X = np.array([[0, 0], [0, 1], [1, 0], [1, 1]])\n",
        "Y = np.array([[0, 1], [1, 0], [1, 0], [0, 1]])\n",
        "\n",
        "W2 = np.random.rand(2, 2)\n",
        "W3 = np.random.rand(2, 2)\n",
        "\n",
        "B2 = np.random.rand(2, 1)\n",
        "B3 = np.random.rand(2, 1)\n",
        "\n",
        "# Training -------------------\n",
        "for epoch in range(10000):\n",
        "    W2, W3, B2, B3 = backprop(W2, W3, B2, B3, X, Y)\n",
        "\n",
        "\n",
        "# Testing --------------------\n",
        "N = 4\n",
        "for k in range(N):\n",
        "    x = X[k, :].reshape(-1, 1)\n",
        "    net2 = np.dot(W2.T, x) + B2\n",
        "    o2 = sigmoid(net2)\n",
        "\n",
        "    net3 = np.dot(W3.T, o2) + B3\n",
        "    yh = sigmoid(net3)\n",
        "\n",
        "    # print(yh.T)\n",
        "    print(yh)\n",
        "\n"
      ],
      "metadata": {
        "colab": {
          "base_uri": "https://localhost:8080/",
          "height": 235
        },
        "id": "SRKhaj15-jbs",
        "outputId": "68f421ab-7072-4dfa-a57c-53a194dff71a"
      },
      "execution_count": null,
      "outputs": [
        {
          "output_type": "error",
          "ename": "NameError",
          "evalue": "ignored",
          "traceback": [
            "\u001b[0;31m---------------------------------------------------------------------------\u001b[0m",
            "\u001b[0;31mNameError\u001b[0m                                 Traceback (most recent call last)",
            "\u001b[0;32m<ipython-input-1-c92bbe02d246>\u001b[0m in \u001b[0;36m<cell line: 1>\u001b[0;34m()\u001b[0m\n\u001b[0;32m----> 1\u001b[0;31m \u001b[0mX\u001b[0m \u001b[0;34m=\u001b[0m \u001b[0mnp\u001b[0m\u001b[0;34m.\u001b[0m\u001b[0marray\u001b[0m\u001b[0;34m(\u001b[0m\u001b[0;34m[\u001b[0m\u001b[0;34m[\u001b[0m\u001b[0;36m0\u001b[0m\u001b[0;34m,\u001b[0m \u001b[0;36m0\u001b[0m\u001b[0;34m]\u001b[0m\u001b[0;34m,\u001b[0m \u001b[0;34m[\u001b[0m\u001b[0;36m0\u001b[0m\u001b[0;34m,\u001b[0m \u001b[0;36m1\u001b[0m\u001b[0;34m]\u001b[0m\u001b[0;34m,\u001b[0m \u001b[0;34m[\u001b[0m\u001b[0;36m1\u001b[0m\u001b[0;34m,\u001b[0m \u001b[0;36m0\u001b[0m\u001b[0;34m]\u001b[0m\u001b[0;34m,\u001b[0m \u001b[0;34m[\u001b[0m\u001b[0;36m1\u001b[0m\u001b[0;34m,\u001b[0m \u001b[0;36m1\u001b[0m\u001b[0;34m]\u001b[0m\u001b[0;34m]\u001b[0m\u001b[0;34m)\u001b[0m\u001b[0;34m\u001b[0m\u001b[0;34m\u001b[0m\u001b[0m\n\u001b[0m\u001b[1;32m      2\u001b[0m \u001b[0mY\u001b[0m \u001b[0;34m=\u001b[0m \u001b[0mnp\u001b[0m\u001b[0;34m.\u001b[0m\u001b[0marray\u001b[0m\u001b[0;34m(\u001b[0m\u001b[0;34m[\u001b[0m\u001b[0;34m[\u001b[0m\u001b[0;36m0\u001b[0m\u001b[0;34m,\u001b[0m \u001b[0;36m1\u001b[0m\u001b[0;34m]\u001b[0m\u001b[0;34m,\u001b[0m \u001b[0;34m[\u001b[0m\u001b[0;36m1\u001b[0m\u001b[0;34m,\u001b[0m \u001b[0;36m0\u001b[0m\u001b[0;34m]\u001b[0m\u001b[0;34m,\u001b[0m \u001b[0;34m[\u001b[0m\u001b[0;36m1\u001b[0m\u001b[0;34m,\u001b[0m \u001b[0;36m0\u001b[0m\u001b[0;34m]\u001b[0m\u001b[0;34m,\u001b[0m \u001b[0;34m[\u001b[0m\u001b[0;36m0\u001b[0m\u001b[0;34m,\u001b[0m \u001b[0;36m1\u001b[0m\u001b[0;34m]\u001b[0m\u001b[0;34m]\u001b[0m\u001b[0;34m)\u001b[0m\u001b[0;34m\u001b[0m\u001b[0;34m\u001b[0m\u001b[0m\n\u001b[1;32m      3\u001b[0m \u001b[0;34m\u001b[0m\u001b[0m\n\u001b[1;32m      4\u001b[0m \u001b[0mW2\u001b[0m \u001b[0;34m=\u001b[0m \u001b[0mnp\u001b[0m\u001b[0;34m.\u001b[0m\u001b[0mrandom\u001b[0m\u001b[0;34m.\u001b[0m\u001b[0mrand\u001b[0m\u001b[0;34m(\u001b[0m\u001b[0;36m2\u001b[0m\u001b[0;34m,\u001b[0m \u001b[0;36m2\u001b[0m\u001b[0;34m)\u001b[0m\u001b[0;34m\u001b[0m\u001b[0;34m\u001b[0m\u001b[0m\n\u001b[1;32m      5\u001b[0m \u001b[0mW3\u001b[0m \u001b[0;34m=\u001b[0m \u001b[0mnp\u001b[0m\u001b[0;34m.\u001b[0m\u001b[0mrandom\u001b[0m\u001b[0;34m.\u001b[0m\u001b[0mrand\u001b[0m\u001b[0;34m(\u001b[0m\u001b[0;36m2\u001b[0m\u001b[0;34m,\u001b[0m \u001b[0;36m2\u001b[0m\u001b[0;34m)\u001b[0m\u001b[0;34m\u001b[0m\u001b[0;34m\u001b[0m\u001b[0m\n",
            "\u001b[0;31mNameError\u001b[0m: name 'np' is not defined"
          ]
        }
      ]
    },
    {
      "cell_type": "markdown",
      "source": [
        "This is example for Lecture #07-4"
      ],
      "metadata": {
        "id": "dxL1wqnnQxup"
      }
    },
    {
      "cell_type": "code",
      "source": [
        "X = np.array([[0, 1, 0], [0, 1, 1], [1, 0, 1], [1, 1, 1]])\n",
        "Y = np.array([[0], [1], [1], [0]])\n",
        "\n",
        "W2 = np.random.rand(3, 4)\n",
        "W3 = np.random.rand(4, 1)\n",
        "\n",
        "B2 = np.random.rand(4, 1)\n",
        "B3 = np.random.rand(1, 1)\n",
        "\n",
        "for epoch in range(10000):\n",
        "    W2, W3, B2, B3 = backprop(W2, W3, B2, B3, X, Y)\n",
        "\n",
        "N = 4\n",
        "for k in range(N):\n",
        "    x = X[k, :].reshape(-1, 1)\n",
        "    net2 = np.dot(W2.T, x) + B2\n",
        "    o2 = sigmoid(net2)\n",
        "\n",
        "    net3 = np.dot(W3.T, o2) + B3\n",
        "    yh = sigmoid(net3)\n",
        "\n",
        "    # print(yh.T)\n",
        "    print(yh)\n",
        "\n",
        "print(W2)\n",
        "print(W3)"
      ],
      "metadata": {
        "colab": {
          "base_uri": "https://localhost:8080/"
        },
        "id": "3BZ8E0URQ4jm",
        "outputId": "1cc55c2b-aba4-44a1-c6f0-5d04df50275e"
      },
      "execution_count": null,
      "outputs": [
        {
          "output_type": "stream",
          "name": "stdout",
          "text": [
            "[[0.01334657]]\n",
            "[[0.97552509]]\n",
            "[[0.97931528]]\n",
            "[[0.02870149]]\n",
            "[[ 0.64944677 -3.31209096  1.92153681  1.28570849]\n",
            " [ 0.57670903 -3.02678493  2.01920493  1.88333175]\n",
            " [ 0.53951267  4.0406194  -2.04757558 -1.59825707]]\n",
            "[[ 0.04195328]\n",
            " [ 6.93626016]\n",
            " [-3.64612541]\n",
            " [-2.88561384]]\n"
          ]
        }
      ]
    }
  ]
}