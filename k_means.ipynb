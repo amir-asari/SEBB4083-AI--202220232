{
  "nbformat": 4,
  "nbformat_minor": 0,
  "metadata": {
    "colab": {
      "provenance": [],
      "authorship_tag": "ABX9TyOrTPBMGg/ErmQkwZUV1iy+",
      "include_colab_link": true
    },
    "kernelspec": {
      "name": "python3",
      "display_name": "Python 3"
    },
    "language_info": {
      "name": "python"
    }
  },
  "cells": [
    {
      "cell_type": "markdown",
      "metadata": {
        "id": "view-in-github",
        "colab_type": "text"
      },
      "source": [
        "<a href=\"https://colab.research.google.com/github/amir-asari/SEBB4083-AI--202220232/blob/main/k_means.ipynb\" target=\"_parent\"><img src=\"https://colab.research.google.com/assets/colab-badge.svg\" alt=\"Open In Colab\"/></a>"
      ]
    },
    {
      "cell_type": "code",
      "execution_count": 6,
      "metadata": {
        "colab": {
          "base_uri": "https://localhost:8080/"
        },
        "id": "7Dhhzik6EbZa",
        "outputId": "3d56ba0e-e4ae-441e-e67f-2b6f5800254b"
      },
      "outputs": [
        {
          "output_type": "stream",
          "name": "stdout",
          "text": [
            "\n",
            "Iteration 1\n",
            "Clusters:\n",
            "Cluster 1 : [array([1., 1.]), array([1.5, 2. ])]\n",
            "Cluster 2 : [array([3., 4.]), array([5., 7.]), array([3.5, 5. ]), array([4.5, 5. ]), array([3.5, 4.5])]\n",
            "Updated Centroids: [[1.25 1.5 ]\n",
            " [3.9  5.1 ]]\n",
            "\n",
            "Iteration 2\n",
            "Clusters:\n",
            "Cluster 1 : [array([1., 1.]), array([1.5, 2. ])]\n",
            "Cluster 2 : [array([3., 4.]), array([5., 7.]), array([3.5, 5. ]), array([4.5, 5. ]), array([3.5, 4.5])]\n",
            "Updated Centroids: [[1.25 1.5 ]\n",
            " [3.9  5.1 ]]\n",
            "Converged at iteration 2\n",
            "\n",
            "Final centroids: [[1.25 1.5 ]\n",
            " [3.9  5.1 ]]\n",
            "Cluster 1 : [array([1., 1.]), array([1.5, 2. ])]\n",
            "Cluster 2 : [array([3., 4.]), array([5., 7.]), array([3.5, 5. ]), array([4.5, 5. ]), array([3.5, 4.5])]\n"
          ]
        }
      ],
      "source": [
        "import numpy as np\n",
        "\n",
        "def euclidean_distance(point1, point2):\n",
        "    return np.sqrt(np.sum((point1 - point2)**2))\n",
        "\n",
        "def k_means(data, k, centroids, max_iterations=100):\n",
        "    centroids = np.array(centroids)\n",
        "    for iteration in range(max_iterations):\n",
        "        print(\"\\nIteration\", iteration + 1)\n",
        "        clusters = [[] for _ in range(k)]\n",
        "        for point in data:\n",
        "            distances = [euclidean_distance(point, centroid) for centroid in centroids]\n",
        "            cluster_index = np.argmin(distances)\n",
        "            clusters[cluster_index].append(point)\n",
        "\n",
        "        print(\"Clusters:\")\n",
        "        for i, cluster in enumerate(clusters):\n",
        "            print(\"Cluster\", i+1, \":\", cluster)\n",
        "\n",
        "        new_centroids = []\n",
        "        for cluster in clusters:\n",
        "            new_centroid = np.mean(cluster, axis=0)\n",
        "            new_centroids.append(new_centroid)\n",
        "\n",
        "        new_centroids = np.array(new_centroids)\n",
        "        print(\"Updated Centroids:\", new_centroids)\n",
        "\n",
        "        if np.array_equal(centroids, new_centroids):\n",
        "            print(\"Converged at iteration\", iteration + 1)\n",
        "            break\n",
        "        centroids = new_centroids\n",
        "\n",
        "    return clusters, centroids\n",
        "\n",
        "data = np.array([[1,1], [1.5,2], [3,4], [5,7], [3.5,5], [4.5,5], [3.5,4.5]])\n",
        "initial_centroids = [[1,1], [5,6]]\n",
        "k = 2\n",
        "clusters, centroids = k_means(data, k, initial_centroids)\n",
        "\n",
        "print(\"\\nFinal centroids:\", centroids)\n",
        "for i, cluster in enumerate(clusters):\n",
        "    print(\"Cluster\", i+1, \":\", cluster)"
      ]
    }
  ]
}