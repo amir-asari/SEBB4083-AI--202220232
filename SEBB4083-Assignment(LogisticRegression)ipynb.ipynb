{
  "nbformat": 4,
  "nbformat_minor": 0,
  "metadata": {
    "colab": {
      "provenance": [],
      "authorship_tag": "ABX9TyPVGJJXz/4T6Efjv2kU5hJ4",
      "include_colab_link": true
    },
    "kernelspec": {
      "name": "python3",
      "display_name": "Python 3"
    },
    "language_info": {
      "name": "python"
    }
  },
  "cells": [
    {
      "cell_type": "markdown",
      "metadata": {
        "id": "view-in-github",
        "colab_type": "text"
      },
      "source": [
        "<a href=\"https://colab.research.google.com/github/amir-asari/SEBB4083-AI--202220232/blob/main/SEBB4083-Assignment(LogisticRegression)ipynb.ipynb\" target=\"_parent\"><img src=\"https://colab.research.google.com/assets/colab-badge.svg\" alt=\"Open In Colab\"/></a>"
      ]
    },
    {
      "cell_type": "markdown",
      "source": [
        "#Group Assignment 2 (5%)\n",
        "### Total marks: 30\n",
        "\n",
        "### Group No.:\n",
        "\n",
        "###Group Members:\n",
        "1)....\n",
        "\n",
        "2)....\n",
        "\n",
        "3)....\n",
        "\n",
        "4)....\n",
        "\n",
        "5)....\n",
        "\n",
        "6)....\n",
        "\n",
        "In this assignment, you need to apply logistic regression using Prima Indian Diabetis dataset. Note: You can use any appropriate Python libraries for this assignment, such as pandas, numpy, scikit-learn, matplotlib, and seaborn."
      ],
      "metadata": {
        "id": "jSoW_qF-DEkF"
      }
    },
    {
      "cell_type": "markdown",
      "source": [
        "####(Step 1) Load the Pima Indian Diabetes dataset into Python using pandas library [2 marks]"
      ],
      "metadata": {
        "id": "Zy2cvcOsEMcd"
      }
    },
    {
      "cell_type": "code",
      "execution_count": null,
      "metadata": {
        "id": "Q2hpOX-MDD2v"
      },
      "outputs": [],
      "source": [
        "## (write your codes here)"
      ]
    },
    {
      "cell_type": "markdown",
      "source": [
        "####(Step 2) Preprocess the data to clean, remove null values, and normalize if needed. [4 marks]"
      ],
      "metadata": {
        "id": "VW9JF4suEfW3"
      }
    },
    {
      "cell_type": "code",
      "source": [
        "## (write your codes here)"
      ],
      "metadata": {
        "id": "rEZ8L1YUEsnd"
      },
      "execution_count": null,
      "outputs": []
    },
    {
      "cell_type": "markdown",
      "source": [
        "####(Step 3) Split the dataset into training and testing subsets. Use 1) 50:50; 2)70:30; 3)80:20; and 4)90:10 ratio of training to testing data. [4 marks]"
      ],
      "metadata": {
        "id": "l61gDZjpEwFI"
      }
    },
    {
      "cell_type": "code",
      "source": [
        "## (write your codes here)"
      ],
      "metadata": {
        "id": "r9iS5p85E6Ov"
      },
      "execution_count": null,
      "outputs": []
    },
    {
      "cell_type": "markdown",
      "source": [
        "####(Step 4) Perform logistic regression on the training data and show the training accuracy. [4 marks]"
      ],
      "metadata": {
        "id": "PRviVhOGBSf7"
      }
    },
    {
      "cell_type": "code",
      "source": [
        "## (write your codes here)"
      ],
      "metadata": {
        "id": "Sh5NwFE6Baaj"
      },
      "execution_count": null,
      "outputs": []
    },
    {
      "cell_type": "markdown",
      "source": [
        "####(Step 5) Use the trained model to make predictions on the testing data. [4 marks]"
      ],
      "metadata": {
        "id": "gSJlEmHWBgG7"
      }
    },
    {
      "cell_type": "code",
      "source": [
        "## (write your codes here)"
      ],
      "metadata": {
        "id": "IGNIezG0B0x8"
      },
      "execution_count": null,
      "outputs": []
    },
    {
      "cell_type": "markdown",
      "source": [
        "####(Step 6) Evaluate the model's performance using appropriate metrics such as accuracy, true positive rate and true negative rate. [8 marks]"
      ],
      "metadata": {
        "id": "5zeGXuPyEUXS"
      }
    },
    {
      "cell_type": "code",
      "source": [
        "## (write your codes here)"
      ],
      "metadata": {
        "id": "AqDB5xAOEZai"
      },
      "execution_count": null,
      "outputs": []
    },
    {
      "cell_type": "markdown",
      "source": [
        "####(Step 7) Visualize the model's performance using appropriate charts such as a confusion matrix. [4 marks]"
      ],
      "metadata": {
        "id": "bYoW0Qq-EctS"
      }
    },
    {
      "cell_type": "code",
      "source": [
        "## (write your codes here)"
      ],
      "metadata": {
        "id": "Zcrr_zwIEl6q"
      },
      "execution_count": null,
      "outputs": []
    }
  ]
}